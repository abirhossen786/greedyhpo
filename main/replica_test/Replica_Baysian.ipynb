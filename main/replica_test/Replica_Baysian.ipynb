{
 "cells": [
  {
   "cell_type": "code",
   "execution_count": 1,
   "metadata": {},
   "outputs": [],
   "source": [
    "import os,cv2,keras\n",
    "import pandas as pd\n",
    "import matplotlib.pyplot as plt\n",
    "import numpy as np\n",
    "import tensorflow as tf\n",
    "import time\n",
    "import pickle\n",
    "\n",
    "from skimage import color\n",
    "from skimage import io\n",
    "from keras.utils import plot_model\n",
    "from keras import regularizers\n",
    "\n",
    "from sklearn.model_selection import train_test_split\n",
    "from tensorflow.keras.callbacks import EarlyStopping\n",
    "from tensorflow.keras.datasets import cifar10\n",
    "from tensorflow.keras.models import Sequential\n",
    "from tensorflow.keras.layers import Dense, Dropout, Activation, Flatten\n",
    "from tensorflow.keras.layers import Conv2D, MaxPooling2D\n",
    "from keras.optimizers import SGD\n",
    "from keras.layers import BatchNormalization\n",
    "from keras import initializers\n",
    "from keras.datasets import mnist"
   ]
  },
  {
   "cell_type": "code",
   "execution_count": 2,
   "metadata": {},
   "outputs": [],
   "source": [
    "%load_ext autotime\n",
    "RANDOM_STATE = 42"
   ]
  },
  {
   "cell_type": "code",
   "execution_count": 3,
   "metadata": {},
   "outputs": [
    {
     "name": "stdout",
     "output_type": "stream",
     "text": [
      "time: 99.1 ms\n"
     ]
    }
   ],
   "source": [
    "MEMORY_LIMIT = 4800\n",
    "gpus = tf.config.experimental.list_physical_devices('GPU')\n",
    "if gpus:\n",
    "    try:\n",
    "        tf.config.experimental.set_virtual_device_configuration(gpus[0], [tf.config.experimental.VirtualDeviceConfiguration(memory_limit=MEMORY_LIMIT)])\n",
    "    except RuntimeError as e:\n",
    "        print(e)"
   ]
  },
  {
   "cell_type": "code",
   "execution_count": 4,
   "metadata": {},
   "outputs": [
    {
     "name": "stdout",
     "output_type": "stream",
     "text": [
      "time: 54.8 ms\n"
     ]
    }
   ],
   "source": [
    "os.environ['TF_CPP_MIN_LOG_LEVEL'] = '3'"
   ]
  },
  {
   "cell_type": "code",
   "execution_count": 5,
   "metadata": {},
   "outputs": [
    {
     "data": {
      "text/plain": [
       "False"
      ]
     },
     "execution_count": 5,
     "metadata": {},
     "output_type": "execute_result"
    },
    {
     "name": "stdout",
     "output_type": "stream",
     "text": [
      "time: 78.3 ms\n"
     ]
    }
   ],
   "source": [
    "tf.test.is_gpu_available()"
   ]
  },
  {
   "cell_type": "code",
   "execution_count": 6,
   "metadata": {},
   "outputs": [
    {
     "data": {
      "text/plain": [
       "True"
      ]
     },
     "execution_count": 6,
     "metadata": {},
     "output_type": "execute_result"
    },
    {
     "name": "stdout",
     "output_type": "stream",
     "text": [
      "time: 72.5 ms\n"
     ]
    }
   ],
   "source": [
    "tf.test.is_built_with_cuda()"
   ]
  },
  {
   "cell_type": "code",
   "execution_count": 7,
   "metadata": {},
   "outputs": [
    {
     "name": "stdout",
     "output_type": "stream",
     "text": [
      "time: 69 ms\n"
     ]
    }
   ],
   "source": [
    "mnist = tf.keras.datasets.mnist"
   ]
  },
  {
   "cell_type": "code",
   "execution_count": 8,
   "metadata": {},
   "outputs": [
    {
     "name": "stdout",
     "output_type": "stream",
     "text": [
      "time: 308 ms\n"
     ]
    }
   ],
   "source": [
    "#from keras.datasets import cifar10\n",
    "# load dataset\n",
    "(X_train, y_train), (X_test, y_test) = mnist.load_data()\n",
    "X_train = X_train.reshape((X_train.shape[0], 28, 28, 1))\n",
    "X_test = X_test.reshape((X_test.shape[0], 28, 28, 1))"
   ]
  },
  {
   "cell_type": "code",
   "execution_count": 9,
   "metadata": {},
   "outputs": [
    {
     "name": "stdout",
     "output_type": "stream",
     "text": [
      "time: 144 ms\n"
     ]
    }
   ],
   "source": [
    "X_train, X_test = X_train / 255.0, X_test / 255.0"
   ]
  },
  {
   "cell_type": "code",
   "execution_count": 10,
   "metadata": {},
   "outputs": [
    {
     "name": "stdout",
     "output_type": "stream",
     "text": [
      "0.1 32\n",
      "Epoch 1/10\n",
      "1875/1875 [==============================] - 26s 13ms/step - loss: 0.3987 - accuracy: 0.8722 - val_loss: 0.0851 - val_accuracy: 0.9729\n",
      "Epoch 2/10\n",
      "1875/1875 [==============================] - 25s 13ms/step - loss: 0.0590 - accuracy: 0.9822 - val_loss: 0.0503 - val_accuracy: 0.9835\n",
      "Epoch 3/10\n",
      "1875/1875 [==============================] - 25s 13ms/step - loss: 0.0408 - accuracy: 0.9873 - val_loss: 0.0376 - val_accuracy: 0.9882\n",
      "Epoch 4/10\n",
      "1875/1875 [==============================] - 26s 14ms/step - loss: 0.0363 - accuracy: 0.9884 - val_loss: 0.0406 - val_accuracy: 0.9852\n",
      "Epoch 5/10\n",
      "1875/1875 [==============================] - 25s 13ms/step - loss: 0.0305 - accuracy: 0.9904 - val_loss: 0.0319 - val_accuracy: 0.9888\n",
      "Epoch 6/10\n",
      "1875/1875 [==============================] - 25s 13ms/step - loss: 0.0260 - accuracy: 0.9918 - val_loss: 0.0354 - val_accuracy: 0.9887\n",
      "Epoch 7/10\n",
      "1875/1875 [==============================] - 26s 14ms/step - loss: 0.0243 - accuracy: 0.9929 - val_loss: 0.0327 - val_accuracy: 0.9888\n",
      "Epoch 8/10\n",
      "1875/1875 [==============================] - 26s 14ms/step - loss: 0.0189 - accuracy: 0.9942 - val_loss: 0.0374 - val_accuracy: 0.9879\n",
      "313/313 [==============================] - 1s 4ms/step - loss: 0.0374 - accuracy: 0.9879\n",
      "Current Acc:  0.9879000186920166\n",
      "Best Acc:  0\n",
      "0.01 32\n",
      "Epoch 1/10\n",
      "1875/1875 [==============================] - 27s 14ms/step - loss: 0.9933 - accuracy: 0.6947 - val_loss: 0.1872 - val_accuracy: 0.9453\n",
      "Epoch 2/10\n",
      "1875/1875 [==============================] - 25s 13ms/step - loss: 0.1813 - accuracy: 0.9452 - val_loss: 0.1084 - val_accuracy: 0.9673\n",
      "Epoch 3/10\n",
      "1875/1875 [==============================] - 25s 14ms/step - loss: 0.1158 - accuracy: 0.9641 - val_loss: 0.0898 - val_accuracy: 0.9719\n",
      "Epoch 4/10\n",
      "1875/1875 [==============================] - 29s 16ms/step - loss: 0.0895 - accuracy: 0.9727 - val_loss: 0.0692 - val_accuracy: 0.9792\n",
      "Epoch 5/10\n",
      "1875/1875 [==============================] - 31s 17ms/step - loss: 0.0772 - accuracy: 0.9778 - val_loss: 0.0609 - val_accuracy: 0.9807\n",
      "Epoch 6/10\n",
      "1875/1875 [==============================] - 32s 17ms/step - loss: 0.0689 - accuracy: 0.9799 - val_loss: 0.0532 - val_accuracy: 0.9830\n",
      "Epoch 7/10\n",
      "1875/1875 [==============================] - 33s 18ms/step - loss: 0.0619 - accuracy: 0.9819 - val_loss: 0.0584 - val_accuracy: 0.9816\n",
      "Epoch 8/10\n",
      "1875/1875 [==============================] - 31s 17ms/step - loss: 0.0574 - accuracy: 0.9830 - val_loss: 0.0469 - val_accuracy: 0.9843\n",
      "Epoch 9/10\n",
      "1875/1875 [==============================] - 32s 17ms/step - loss: 0.0580 - accuracy: 0.9828 - val_loss: 0.0478 - val_accuracy: 0.9847\n",
      "Epoch 10/10\n",
      "1875/1875 [==============================] - 33s 17ms/step - loss: 0.0531 - accuracy: 0.9837 - val_loss: 0.0488 - val_accuracy: 0.9837\n",
      "313/313 [==============================] - 2s 5ms/step - loss: 0.0488 - accuracy: 0.9837\n",
      "Current Acc:  0.9836999773979187\n",
      "Best Acc:  0.9879000186920166\n",
      "0.001 32\n",
      "Epoch 1/10\n",
      "1875/1875 [==============================] - 33s 18ms/step - loss: 2.2581 - accuracy: 0.2501 - val_loss: 1.9193 - val_accuracy: 0.6573\n",
      "Epoch 2/10\n",
      "1875/1875 [==============================] - 34s 18ms/step - loss: 1.4536 - accuracy: 0.7282 - val_loss: 0.5170 - val_accuracy: 0.8552\n",
      "Epoch 3/10\n",
      "1875/1875 [==============================] - 35s 19ms/step - loss: 0.4809 - accuracy: 0.8665 - val_loss: 0.3661 - val_accuracy: 0.8950\n",
      "Epoch 4/10\n",
      "1875/1875 [==============================] - 34s 18ms/step - loss: 0.3582 - accuracy: 0.8962 - val_loss: 0.3151 - val_accuracy: 0.9080\n",
      "Epoch 5/10\n",
      "1875/1875 [==============================] - 34s 18ms/step - loss: 0.3162 - accuracy: 0.9078 - val_loss: 0.2774 - val_accuracy: 0.9197\n",
      "Epoch 6/10\n",
      "1875/1875 [==============================] - 34s 18ms/step - loss: 0.2894 - accuracy: 0.9138 - val_loss: 0.2516 - val_accuracy: 0.9284\n",
      "Epoch 7/10\n",
      "1875/1875 [==============================] - 34s 18ms/step - loss: 0.2623 - accuracy: 0.9217 - val_loss: 0.2295 - val_accuracy: 0.9355\n",
      "Epoch 8/10\n",
      "1875/1875 [==============================] - 34s 18ms/step - loss: 0.2414 - accuracy: 0.9284 - val_loss: 0.2176 - val_accuracy: 0.9379\n",
      "Epoch 9/10\n",
      "1875/1875 [==============================] - 33s 18ms/step - loss: 0.2246 - accuracy: 0.9339 - val_loss: 0.1955 - val_accuracy: 0.9430\n",
      "Epoch 10/10\n",
      "1875/1875 [==============================] - 34s 18ms/step - loss: 0.2031 - accuracy: 0.9406 - val_loss: 0.1815 - val_accuracy: 0.9470\n",
      "313/313 [==============================] - 2s 5ms/step - loss: 0.1815 - accuracy: 0.9470\n",
      "Current Acc:  0.9470000267028809\n",
      "Best Acc:  0.9879000186920166\n",
      "0.0001 32\n",
      "Epoch 1/10\n",
      "1875/1875 [==============================] - 33s 17ms/step - loss: 2.2954 - accuracy: 0.1594 - val_loss: 2.2781 - val_accuracy: 0.2380\n",
      "Epoch 2/10\n",
      "1875/1875 [==============================] - 32s 17ms/step - loss: 2.2762 - accuracy: 0.2353 - val_loss: 2.2582 - val_accuracy: 0.2896\n",
      "Epoch 3/10\n",
      "1875/1875 [==============================] - 34s 18ms/step - loss: 2.2557 - accuracy: 0.2850 - val_loss: 2.2352 - val_accuracy: 0.3285\n",
      "Epoch 4/10\n",
      "1875/1875 [==============================] - 34s 18ms/step - loss: 2.2317 - accuracy: 0.3284 - val_loss: 2.2055 - val_accuracy: 0.3954\n",
      "Epoch 5/10\n",
      "1875/1875 [==============================] - 34s 18ms/step - loss: 2.2007 - accuracy: 0.4002 - val_loss: 2.1641 - val_accuracy: 0.4839\n",
      "Epoch 6/10\n",
      "1875/1875 [==============================] - 33s 18ms/step - loss: 2.1560 - accuracy: 0.4852 - val_loss: 2.1031 - val_accuracy: 0.5674\n",
      "Epoch 7/10\n",
      "1875/1875 [==============================] - 33s 18ms/step - loss: 2.0898 - accuracy: 0.5725 - val_loss: 2.0091 - val_accuracy: 0.6472\n",
      "Epoch 8/10\n",
      "1875/1875 [==============================] - 31s 17ms/step - loss: 1.9865 - accuracy: 0.6428 - val_loss: 1.8621 - val_accuracy: 0.7001\n",
      "Epoch 9/10\n",
      "1875/1875 [==============================] - 34s 18ms/step - loss: 1.8221 - accuracy: 0.6898 - val_loss: 1.6427 - val_accuracy: 0.7434\n",
      "Epoch 10/10\n",
      "1875/1875 [==============================] - 34s 18ms/step - loss: 1.5904 - accuracy: 0.7250 - val_loss: 1.3638 - val_accuracy: 0.7682\n",
      "313/313 [==============================] - 2s 6ms/step - loss: 1.3638 - accuracy: 0.7682\n",
      "Current Acc:  0.7681999802589417\n",
      "Best Acc:  0.9879000186920166\n",
      "1e-05 32\n",
      "Epoch 1/10\n",
      "1875/1875 [==============================] - 36s 19ms/step - loss: 2.3160 - accuracy: 0.1451 - val_loss: 2.3129 - val_accuracy: 0.1480\n",
      "Epoch 2/10\n",
      "1875/1875 [==============================] - 34s 18ms/step - loss: 2.3128 - accuracy: 0.1451 - val_loss: 2.3094 - val_accuracy: 0.1528\n",
      "Epoch 3/10\n",
      "1875/1875 [==============================] - 35s 19ms/step - loss: 2.3098 - accuracy: 0.1512 - val_loss: 2.3059 - val_accuracy: 0.1579\n",
      "Epoch 4/10\n",
      "1875/1875 [==============================] - 36s 19ms/step - loss: 2.3057 - accuracy: 0.1533 - val_loss: 2.3026 - val_accuracy: 0.1608\n",
      "Epoch 5/10\n",
      "1875/1875 [==============================] - 33s 18ms/step - loss: 2.3023 - accuracy: 0.1579 - val_loss: 2.2993 - val_accuracy: 0.1651\n",
      "Epoch 6/10\n",
      "1875/1875 [==============================] - 31s 17ms/step - loss: 2.2996 - accuracy: 0.1619 - val_loss: 2.2961 - val_accuracy: 0.1669\n",
      "Epoch 7/10\n",
      "1875/1875 [==============================] - 32s 17ms/step - loss: 2.2958 - accuracy: 0.1627 - val_loss: 2.2929 - val_accuracy: 0.1705\n",
      "Epoch 8/10\n",
      "1875/1875 [==============================] - 34s 18ms/step - loss: 2.2927 - accuracy: 0.1662 - val_loss: 2.2898 - val_accuracy: 0.1731\n",
      "Epoch 9/10\n",
      "1875/1875 [==============================] - 33s 18ms/step - loss: 2.2895 - accuracy: 0.1716 - val_loss: 2.2867 - val_accuracy: 0.1767\n",
      "Epoch 10/10\n",
      "1875/1875 [==============================] - 31s 16ms/step - loss: 2.2877 - accuracy: 0.1711 - val_loss: 2.2836 - val_accuracy: 0.1812\n",
      "313/313 [==============================] - 1s 4ms/step - loss: 2.2836 - accuracy: 0.1812\n",
      "Current Acc:  0.18119999766349792\n",
      "Best Acc:  0.9879000186920166\n",
      "0.1 48\n",
      "Epoch 1/10\n",
      "1250/1250 [==============================] - 26s 21ms/step - loss: 0.4316 - accuracy: 0.8643 - val_loss: 0.0625 - val_accuracy: 0.9817\n",
      "Epoch 2/10\n",
      "1250/1250 [==============================] - 22s 18ms/step - loss: 0.0664 - accuracy: 0.9786 - val_loss: 0.0427 - val_accuracy: 0.9863\n",
      "Epoch 3/10\n"
     ]
    },
    {
     "name": "stdout",
     "output_type": "stream",
     "text": [
      "1250/1250 [==============================] - 22s 18ms/step - loss: 0.0524 - accuracy: 0.9842 - val_loss: 0.0369 - val_accuracy: 0.9888\n",
      "Epoch 4/10\n",
      "1250/1250 [==============================] - 21s 17ms/step - loss: 0.0411 - accuracy: 0.9870 - val_loss: 0.0343 - val_accuracy: 0.9890\n",
      "Epoch 5/10\n",
      "1250/1250 [==============================] - 24s 19ms/step - loss: 0.0336 - accuracy: 0.9899 - val_loss: 0.0366 - val_accuracy: 0.9881\n",
      "Epoch 6/10\n",
      "1250/1250 [==============================] - 24s 19ms/step - loss: 0.0301 - accuracy: 0.9908 - val_loss: 0.0305 - val_accuracy: 0.9902\n",
      "Epoch 7/10\n",
      "1250/1250 [==============================] - 23s 18ms/step - loss: 0.0283 - accuracy: 0.9911 - val_loss: 0.0335 - val_accuracy: 0.9888\n",
      "Epoch 8/10\n",
      "1250/1250 [==============================] - 23s 18ms/step - loss: 0.0231 - accuracy: 0.9921 - val_loss: 0.0301 - val_accuracy: 0.9897\n",
      "Epoch 9/10\n",
      "1250/1250 [==============================] - 22s 18ms/step - loss: 0.0208 - accuracy: 0.9942 - val_loss: 0.0307 - val_accuracy: 0.9903\n",
      "Epoch 10/10\n",
      "1250/1250 [==============================] - 23s 18ms/step - loss: 0.0194 - accuracy: 0.9939 - val_loss: 0.0487 - val_accuracy: 0.9851\n",
      "313/313 [==============================] - 1s 4ms/step - loss: 0.0487 - accuracy: 0.9851\n",
      "Current Acc:  0.9850999712944031\n",
      "Best Acc:  0.9879000186920166\n",
      "0.1 64\n",
      "Epoch 1/10\n",
      "938/938 [==============================] - 22s 24ms/step - loss: 0.5114 - accuracy: 0.8506 - val_loss: 0.0791 - val_accuracy: 0.9742\n",
      "Epoch 2/10\n",
      "938/938 [==============================] - 22s 24ms/step - loss: 0.0771 - accuracy: 0.9765 - val_loss: 0.0669 - val_accuracy: 0.9782\n",
      "Epoch 3/10\n",
      "938/938 [==============================] - 22s 23ms/step - loss: 0.0572 - accuracy: 0.9823 - val_loss: 0.0395 - val_accuracy: 0.9872\n",
      "Epoch 4/10\n",
      "938/938 [==============================] - 22s 24ms/step - loss: 0.0461 - accuracy: 0.9853 - val_loss: 0.0380 - val_accuracy: 0.9871\n",
      "Epoch 5/10\n",
      "938/938 [==============================] - 22s 24ms/step - loss: 0.0398 - accuracy: 0.9881 - val_loss: 0.0352 - val_accuracy: 0.9890\n",
      "Epoch 6/10\n",
      "938/938 [==============================] - 24s 25ms/step - loss: 0.0333 - accuracy: 0.9894 - val_loss: 0.0311 - val_accuracy: 0.9905\n",
      "Epoch 7/10\n",
      "938/938 [==============================] - 23s 24ms/step - loss: 0.0328 - accuracy: 0.9895 - val_loss: 0.0297 - val_accuracy: 0.9903\n",
      "Epoch 8/10\n",
      "938/938 [==============================] - 23s 24ms/step - loss: 0.0287 - accuracy: 0.9910 - val_loss: 0.0337 - val_accuracy: 0.9885\n",
      "Epoch 9/10\n",
      "938/938 [==============================] - 24s 26ms/step - loss: 0.0252 - accuracy: 0.9919 - val_loss: 0.0316 - val_accuracy: 0.9898\n",
      "Epoch 10/10\n",
      "938/938 [==============================] - 22s 23ms/step - loss: 0.0217 - accuracy: 0.9929 - val_loss: 0.0352 - val_accuracy: 0.9882\n",
      "313/313 [==============================] - 1s 4ms/step - loss: 0.0352 - accuracy: 0.9882\n",
      "Current Acc:  0.9882000088691711\n",
      "Best Acc:  0.9879000186920166\n",
      "0.1 96\n",
      "Epoch 1/10\n",
      "625/625 [==============================] - 21s 34ms/step - loss: 0.6257 - accuracy: 0.8090 - val_loss: 0.0777 - val_accuracy: 0.9755\n",
      "Epoch 2/10\n",
      "625/625 [==============================] - 21s 34ms/step - loss: 0.0830 - accuracy: 0.9747 - val_loss: 0.0584 - val_accuracy: 0.9821\n",
      "Epoch 3/10\n",
      "625/625 [==============================] - 22s 36ms/step - loss: 0.0591 - accuracy: 0.9821 - val_loss: 0.0456 - val_accuracy: 0.9846\n",
      "Epoch 4/10\n",
      "625/625 [==============================] - 21s 33ms/step - loss: 0.0513 - accuracy: 0.9852 - val_loss: 0.0431 - val_accuracy: 0.9863\n",
      "Epoch 5/10\n",
      "625/625 [==============================] - 21s 34ms/step - loss: 0.0475 - accuracy: 0.9859 - val_loss: 0.0449 - val_accuracy: 0.9858\n",
      "Epoch 6/10\n",
      "625/625 [==============================] - 22s 35ms/step - loss: 0.0406 - accuracy: 0.9878 - val_loss: 0.0372 - val_accuracy: 0.9873\n",
      "Epoch 7/10\n",
      "625/625 [==============================] - 21s 33ms/step - loss: 0.0352 - accuracy: 0.9892 - val_loss: 0.0363 - val_accuracy: 0.9879\n",
      "Epoch 8/10\n",
      "625/625 [==============================] - 21s 34ms/step - loss: 0.0339 - accuracy: 0.9892 - val_loss: 0.0340 - val_accuracy: 0.9889\n",
      "Epoch 9/10\n",
      "625/625 [==============================] - 22s 36ms/step - loss: 0.0313 - accuracy: 0.9904 - val_loss: 0.0349 - val_accuracy: 0.9878\n",
      "Epoch 10/10\n",
      "625/625 [==============================] - 21s 33ms/step - loss: 0.0281 - accuracy: 0.9913 - val_loss: 0.0328 - val_accuracy: 0.9893\n",
      "313/313 [==============================] - 1s 4ms/step - loss: 0.0328 - accuracy: 0.9893\n",
      "Current Acc:  0.989300012588501\n",
      "Best Acc:  0.9882000088691711\n",
      "0.1 128\n",
      "Epoch 1/10\n",
      "469/469 [==============================] - 20s 43ms/step - loss: 0.7214 - accuracy: 0.7757 - val_loss: 0.1117 - val_accuracy: 0.9647\n",
      "Epoch 2/10\n",
      "469/469 [==============================] - 20s 42ms/step - loss: 0.1002 - accuracy: 0.9701 - val_loss: 0.0630 - val_accuracy: 0.9804\n",
      "Epoch 3/10\n",
      "469/469 [==============================] - 20s 42ms/step - loss: 0.0739 - accuracy: 0.9769 - val_loss: 0.0529 - val_accuracy: 0.9830\n",
      "Epoch 4/10\n",
      "469/469 [==============================] - 21s 44ms/step - loss: 0.0578 - accuracy: 0.9822 - val_loss: 0.0471 - val_accuracy: 0.9840\n",
      "Epoch 5/10\n",
      "469/469 [==============================] - 20s 42ms/step - loss: 0.0495 - accuracy: 0.9850 - val_loss: 0.0468 - val_accuracy: 0.9846\n",
      "Epoch 6/10\n",
      "469/469 [==============================] - 19s 42ms/step - loss: 0.0447 - accuracy: 0.9860 - val_loss: 0.0439 - val_accuracy: 0.9856\n",
      "Epoch 7/10\n",
      "469/469 [==============================] - 20s 43ms/step - loss: 0.0388 - accuracy: 0.9876 - val_loss: 0.0351 - val_accuracy: 0.9885\n",
      "Epoch 8/10\n",
      "469/469 [==============================] - 20s 42ms/step - loss: 0.0389 - accuracy: 0.9880 - val_loss: 0.0407 - val_accuracy: 0.9856\n",
      "Epoch 9/10\n",
      "469/469 [==============================] - 20s 42ms/step - loss: 0.0334 - accuracy: 0.9898 - val_loss: 0.0342 - val_accuracy: 0.9891\n",
      "Epoch 10/10\n",
      "469/469 [==============================] - 20s 43ms/step - loss: 0.0318 - accuracy: 0.9899 - val_loss: 0.0381 - val_accuracy: 0.9866\n",
      "313/313 [==============================] - 1s 4ms/step - loss: 0.0381 - accuracy: 0.9866\n",
      "Current Acc:  0.9865999817848206\n",
      "Best Acc:  0.989300012588501\n",
      "Trials :  9\n",
      "Optimal Validation Accuracy:  0.989300012588501\n",
      "The Final Optimal Values for all block is : \n",
      "learning_rates:  0.1 \n",
      " batch_sizes:  96\n",
      "time: 39min 51s\n"
     ]
    }
   ],
   "source": [
    "learning_rates = [0.1,0.01,0.001,0.0001,0.00001]\n",
    "batch_sizes = [32,48,64,96,128]\n",
    "opt_layer_1=0.001\n",
    "opt_layer_2=32\n",
    "temp=0\n",
    "test_acc=0\n",
    "combinations=0\n",
    "flag=0\n",
    "\n",
    "for batch_size in batch_sizes:\n",
    "    for learning_rate in learning_rates:\n",
    "        \n",
    "        print(learning_rate,batch_size)\n",
    "\n",
    "        model = Sequential()\n",
    "\n",
    "        model.add(Conv2D(32, (5, 5),strides = [1,1], input_shape=(28, 28, 1),padding='same'))\n",
    "        model.add(Activation('relu'))\n",
    "        model.add(MaxPooling2D(pool_size=(2, 2)))\n",
    "\n",
    "        model.add(Conv2D(32, (3, 3),padding='same'))\n",
    "        model.add(Activation('relu'))\n",
    "        model.add(MaxPooling2D(pool_size=(2, 2)))\n",
    "\n",
    "        model.add(Flatten())\n",
    "\n",
    "        model.add(Dense(10))\n",
    "        model.add(Activation('softmax'))\n",
    "\n",
    "        my_callbacks = [ tf.keras.callbacks.EarlyStopping(patience=3)]\n",
    "\n",
    "        opt = SGD(lr = learning_rate)\n",
    "        model.compile(\n",
    "                      loss=tf.keras.losses.SparseCategoricalCrossentropy(from_logits=False),\n",
    "                      optimizer=opt,\n",
    "                      metrics=['accuracy'],\n",
    "                      )\n",
    "\n",
    "        model.fit(X_train,y_train,\n",
    "                  batch_size= batch_size,\n",
    "                  epochs=10,\n",
    "                  validation_data=(X_test, y_test),\n",
    "                  callbacks=[my_callbacks])\n",
    "        \n",
    "        _,test_acc = model.evaluate(X_test, y_test)\n",
    "\n",
    "        print(\"Current Acc: \",test_acc)\n",
    "        print(\"Best Acc: \",temp)\n",
    "        combinations=combinations+1\n",
    "\n",
    "        if flag==0 :\n",
    "            if test_acc > temp :\n",
    "                opt_layer_1 = learning_rate\n",
    "                temp=test_acc\n",
    "            learning_rates = [opt_layer_1]\n",
    "\n",
    "        elif flag==1 :\n",
    "            if test_acc > temp :\n",
    "                opt_layer_2 = batch_size\n",
    "                temp=test_acc \n",
    "            batch_sizes = [opt_layer_2]\n",
    "    flag=1\n",
    "    test_acc=0\n",
    "\n",
    "##################################################################################\n",
    "print(\"Trials : \",combinations)\n",
    "print(\"Optimal Validation Accuracy: \",temp)\n",
    "print(\"The Final Optimal Values for all block is : \")\n",
    "print('learning_rates: ',opt_layer_1,'\\n batch_sizes: ',opt_layer_2)"
   ]
  },
  {
   "cell_type": "code",
   "execution_count": null,
   "metadata": {},
   "outputs": [],
   "source": []
  }
 ],
 "metadata": {
  "kernelspec": {
   "display_name": "Python 3",
   "language": "python",
   "name": "python3"
  },
  "language_info": {
   "codemirror_mode": {
    "name": "ipython",
    "version": 3
   },
   "file_extension": ".py",
   "mimetype": "text/x-python",
   "name": "python",
   "nbconvert_exporter": "python",
   "pygments_lexer": "ipython3",
   "version": "3.6.12"
  }
 },
 "nbformat": 4,
 "nbformat_minor": 4
}
